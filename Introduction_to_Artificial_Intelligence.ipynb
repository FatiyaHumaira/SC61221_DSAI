{
  "nbformat": 4,
  "nbformat_minor": 0,
  "metadata": {
    "colab": {
      "provenance": []
    },
    "kernelspec": {
      "name": "python3",
      "display_name": "Python 3"
    },
    "language_info": {
      "name": "python"
    }
  },
  "cells": [
    {
      "cell_type": "markdown",
      "source": [
        "**Tim 12C Aliansi AI :**\n",
        "\n",
        "1.   Siti Nur Azizah (SC61218)\n",
        "2.   Muhammad Randy Dani P. (SC61216)\n",
        "3.   Fatiya Humaira Yunaz (SC61221)\n",
        "4.   Gita Ismayaningrum (SC61214)\n",
        "5.   Azkia Rahmah (SC61220)\n",
        "6.   Agil Pratama (SC61201)\n",
        "\n"
      ],
      "metadata": {
        "id": "9tpo4oHO_uQt"
      }
    },
    {
      "cell_type": "markdown",
      "source": [
        "# Assignment 5\n",
        "Tulis syntax di Google Colab:\n",
        "\n",
        "\n",
        "*   Tentukan tiga topik terkait: Kesehatan,Olahraga, Keuangan.\n",
        "*   Temukan teks/artikel sebagai dasar/pelatihan/training ketiga topik tersebut.\n",
        "*   Hitung vektor Bag-of-Words untuk setiap topik.\n",
        "\n",
        "Klasifikasikan teks ini dalam topik yang benar: “Cristiano Ronaldo came off the bench to earn Manchester United a hard-fought 2-1 victory at Everton in the Premier League on Sunday, taking his career goal tally to 700 in the process. Just as United did last weekend in their derby mauling at the hands of local rivals Manchester City, they again found themselves behind early on at Goodison Park after Alex Iwobi curled a sublime strike into the net from 20 metres.”\n"
      ],
      "metadata": {
        "id": "9HXw6lJme08e"
      }
    },
    {
      "cell_type": "code",
      "source": [
        "import nltk\n",
        "nltk.download(\"popular\")\n",
        "from nltk.corpus import stopwords\n",
        "from nltk.tokenize import sent_tokenize, word_tokenize\n",
        "from nltk.stem import WordNetLemmatizer"
      ],
      "metadata": {
        "colab": {
          "base_uri": "https://localhost:8080/"
        },
        "id": "hTRTLkriJEr4",
        "outputId": "7146c918-4b9a-4277-c98f-f0c78b42d9fb"
      },
      "execution_count": null,
      "outputs": [
        {
          "output_type": "stream",
          "name": "stderr",
          "text": [
            "[nltk_data] Downloading collection 'popular'\n",
            "[nltk_data]    | \n",
            "[nltk_data]    | Downloading package cmudict to /root/nltk_data...\n",
            "[nltk_data]    |   Package cmudict is already up-to-date!\n",
            "[nltk_data]    | Downloading package gazetteers to /root/nltk_data...\n",
            "[nltk_data]    |   Package gazetteers is already up-to-date!\n",
            "[nltk_data]    | Downloading package genesis to /root/nltk_data...\n",
            "[nltk_data]    |   Package genesis is already up-to-date!\n",
            "[nltk_data]    | Downloading package gutenberg to /root/nltk_data...\n",
            "[nltk_data]    |   Package gutenberg is already up-to-date!\n",
            "[nltk_data]    | Downloading package inaugural to /root/nltk_data...\n",
            "[nltk_data]    |   Package inaugural is already up-to-date!\n",
            "[nltk_data]    | Downloading package movie_reviews to\n",
            "[nltk_data]    |     /root/nltk_data...\n",
            "[nltk_data]    |   Package movie_reviews is already up-to-date!\n",
            "[nltk_data]    | Downloading package names to /root/nltk_data...\n",
            "[nltk_data]    |   Package names is already up-to-date!\n",
            "[nltk_data]    | Downloading package shakespeare to /root/nltk_data...\n",
            "[nltk_data]    |   Package shakespeare is already up-to-date!\n",
            "[nltk_data]    | Downloading package stopwords to /root/nltk_data...\n",
            "[nltk_data]    |   Package stopwords is already up-to-date!\n",
            "[nltk_data]    | Downloading package treebank to /root/nltk_data...\n",
            "[nltk_data]    |   Package treebank is already up-to-date!\n",
            "[nltk_data]    | Downloading package twitter_samples to\n",
            "[nltk_data]    |     /root/nltk_data...\n",
            "[nltk_data]    |   Package twitter_samples is already up-to-date!\n",
            "[nltk_data]    | Downloading package omw to /root/nltk_data...\n",
            "[nltk_data]    |   Package omw is already up-to-date!\n",
            "[nltk_data]    | Downloading package omw-1.4 to /root/nltk_data...\n",
            "[nltk_data]    |   Package omw-1.4 is already up-to-date!\n",
            "[nltk_data]    | Downloading package wordnet to /root/nltk_data...\n",
            "[nltk_data]    |   Package wordnet is already up-to-date!\n",
            "[nltk_data]    | Downloading package wordnet2021 to /root/nltk_data...\n",
            "[nltk_data]    |   Package wordnet2021 is already up-to-date!\n",
            "[nltk_data]    | Downloading package wordnet31 to /root/nltk_data...\n",
            "[nltk_data]    |   Package wordnet31 is already up-to-date!\n",
            "[nltk_data]    | Downloading package wordnet_ic to /root/nltk_data...\n",
            "[nltk_data]    |   Package wordnet_ic is already up-to-date!\n",
            "[nltk_data]    | Downloading package words to /root/nltk_data...\n",
            "[nltk_data]    |   Package words is already up-to-date!\n",
            "[nltk_data]    | Downloading package maxent_ne_chunker to\n",
            "[nltk_data]    |     /root/nltk_data...\n",
            "[nltk_data]    |   Package maxent_ne_chunker is already up-to-date!\n",
            "[nltk_data]    | Downloading package punkt to /root/nltk_data...\n",
            "[nltk_data]    |   Package punkt is already up-to-date!\n",
            "[nltk_data]    | Downloading package snowball_data to\n",
            "[nltk_data]    |     /root/nltk_data...\n",
            "[nltk_data]    |   Package snowball_data is already up-to-date!\n",
            "[nltk_data]    | Downloading package averaged_perceptron_tagger to\n",
            "[nltk_data]    |     /root/nltk_data...\n",
            "[nltk_data]    |   Package averaged_perceptron_tagger is already up-\n",
            "[nltk_data]    |       to-date!\n",
            "[nltk_data]    | \n",
            "[nltk_data]  Done downloading collection popular\n"
          ]
        }
      ]
    },
    {
      "cell_type": "code",
      "source": [
        "# Download stopwords dan lemmatizer data\n",
        "nltk.download('stopwords')\n",
        "nltk.download('punkt')\n",
        "nltk.download('wordnet')\n",
        "\n",
        "# Define lemmatizer\n",
        "lemmatizer = WordNetLemmatizer()\n",
        "\n",
        "# Get stopwords\n",
        "stop_words = set(stopwords.words('english'))"
      ],
      "metadata": {
        "colab": {
          "base_uri": "https://localhost:8080/"
        },
        "id": "qQBsb2qLKeID",
        "outputId": "f300f3aa-4b26-4cc3-f7a9-65e35f32b27e"
      },
      "execution_count": null,
      "outputs": [
        {
          "output_type": "stream",
          "name": "stderr",
          "text": [
            "[nltk_data] Downloading package stopwords to /root/nltk_data...\n",
            "[nltk_data]   Package stopwords is already up-to-date!\n",
            "[nltk_data] Downloading package punkt to /root/nltk_data...\n",
            "[nltk_data]   Package punkt is already up-to-date!\n",
            "[nltk_data] Downloading package wordnet to /root/nltk_data...\n",
            "[nltk_data]   Package wordnet is already up-to-date!\n"
          ]
        }
      ]
    },
    {
      "cell_type": "code",
      "source": [
        "#@title Inisialisasi Data Training\n",
        "text_sport1 = \"Indonesia won victory over South Korea in the quarter-finals of the 2024 U-23 Asian Cup. In the match at the Abdullah bin Khalifa Stadium, Friday (26/4/2024) early morning WIB, Indonesia fought until the penalty shootout round to win a place in the last four. For 120 minutes, Indonesia drew 2-2 with South Korea. Garuda Muda took the lead twice thanks to a brace from Struick. Taegeuk Warriors scored a goal due to Komang Teguh Trisnanda's suicide and Jeong Sang-bin's goal. In the penalty shootout round, Ernando Ari was able to ward off two South Korean penalty kicks. Pratama Arhan was the deciding factor for Indonesia's victory with a score of 11-10 in the goalkeeper contest which was held with up to 12 kickers. In that match, Struick received a yellow card. He fouled Eom Ji-sung in the 20th minute.\"\n",
        "text_sport2 = \"Cristiano Ronaldo notched his second hat trick in the space of 72 hours as Al-Nassr routed Abha 8-0 in the Saudi Pro League on Tuesday. The five-time Ballon D'Or winner scored three goals and recorded two assists in the first half for the nine-time Saudi Arabian champions. The hat trick was his third of the league season following his treble in Saturday's 5-1 win over Al-Tai. The Portugal star leads the league with 29 goals. Ronaldo's first two goals Tuesday came from free kicks. With 11 minutes on the clock, he opened the scoring with a low shot from a central position just outside the area. The second came 10 minutes later when he curled the ball around the wall from the left side. Three minutes before the break, Ronaldo then completed the hat trick with a beautiful chip from outside the area as he ran toward goal. There was still enough time in the first-half for Ronaldo to slip the ball to his right for Abdulmajeed Al-Sulayhim to score into an open goal from close range.\"\n",
        "text_medical1 = \"The five-year patterns in the study were determined by bedtime, sleep duration, sleep quality, and midday napping as well as polygenic risk scores for coronary heart disease and stroke. The participants included people with complete sleep information at the baseline survey from 2008 to 2010 and the first follow-up survey in 2013. Subjects with no history of cardiovascular disease or cancer were prospectively assessed from 2013 to 2018. Scientists performed their statistical analysis in November 2023. The authors pointed out cardiovascular disease “is a major cause of morbidity and mortality worldwide. In 2019, cardiovascular deaths accounted for approximately one-third of all deaths globally, including more than 40% of deaths in China. The researchers also said that as the cardiovascular disease burden keeps rising in nearly every country, research identifying modifiable risk factors for prevention of serious heart disease is urgent. The team acknowledged previous studies have shown an association of sleep with cardiovascular health. However, the researchers said most of those studies used only a single measurement, which might not adequately reflect the association of overall sleep with cardiovascular disease as sleep habits may change over time. Researchers cited one studyTrusted Source of 9,309 participants living in Europe that indicated that maintaining healthy sleep patterns over a 2-year to 5-year period was associated with a lower risk of cardiovascular disease and coronary heart disease but not stroke. However, they noted that the research looked at people in midlife who typically adjusted their sleep patterns around work schedules.\"\n",
        "text_medical2 = \"Regular physical activity is a cornerstone of a healthy lifestyle, offering a multitude of benefits for both physical and mental well-being. Engaging in regular exercise not only strengthens muscles and improves cardiovascular health but also plays a crucial role in preventing chronic diseases such as obesity, diabetes, and heart disease.Physical activity is essential for maintaining a healthy weight and reducing the risk of obesity-related conditions. It helps burn calories, build lean muscle mass, and boost metabolism, contributing to weight management and overall metabolic health. Additionally, exercise promotes better sleep quality, reduces stress levels, and enhances mood by triggering the release of endorphins, the body's natural feel-good chemicals. Furthermore, regular physical activity supports optimal cardiovascular health by improving circulation, lowering blood pressure, and reducing the risk of heart disease and stroke. It also helps regulate blood sugar levels, reducing the likelihood of developing type 2 diabetes. Incorporating exercise into daily routines doesn't have to be daunting. Simple activities such as walking, cycling, or gardening can provide significant health benefits. The key is consistency and finding activities that are enjoyable and sustainable in the long term. In conclusion, prioritizing regular physical activity is essential for maintaining overall health and well-being. By making exercise a regular part of our lives, we can reap the countless benefits it offers, from improved physical fitness to enhanced mental health and quality of life.\"\n",
        "text_finance1 = \"Financial management plays a pivotal role in both personal and business realms, encompassing a myriad of practices aimed at optimizing monetary resources. Effective financial strategies involve budgeting, investment, and risk management to ensure sustainable growth and stability. Individuals often engage in financial planning to secure their future through savings, retirement plans, and investments in various assets. On a corporate scale, financial management entails analyzing cash flows, allocating funds for projects, and minimizing financial risks. Moreover, it encompasses financial reporting and compliance with regulatory standards to maintain transparency and accountability. In essence, sound financial management fosters economic resilience and facilitates prudent decision-making.\"\n",
        "text_finance2 = \"Financial freedom is the ability to pursue your passions and goals without being constrained by financial concerns. It means having enough cash and investments to support your desired lifestyle, allowing you to make choices aligned with your values and aspirations. For example, if your dream lifestyle costs $72,000 a year, and you have $1.8 million in investments and retirement savings, you can maintain this lifestyle using the 4% withdrawal rule, which yields $72,000 annually. Achieving financial freedom involves not only prudent saving and investment, but also maximizing income streams like 401(k) matches and passive income. It's important to recognize that financial freedom varies for each person, influenced by factors like income level, living costs, and personal priorities. Whether it's paying off debt or building substantial wealth, financial freedom is about creating a life that reflects your individual definition of success.\"\n",
        "\n",
        "texts = [text_sport1, text_sport2, text_medical1, text_medical2, text_finance1, text_finance2 ]\n",
        "bow_keys = []\n",
        "corpus_texts = []"
      ],
      "metadata": {
        "id": "9nRKmCZkfYvJ"
      },
      "execution_count": null,
      "outputs": []
    },
    {
      "cell_type": "code",
      "source": [
        "#@title Preprocessing\n",
        "for text in texts:\n",
        "    words  = word_tokenize(text)\n",
        "    texts = [lemmatizer.lemmatize(word) for word in words if word not in set(stopwords.words('english'))]\n",
        "    bow_keys += texts\n",
        "    text = ' '.join(texts)\n",
        "    corpus_texts.append(text)\n",
        "bow_keys = set(bow_keys)\n",
        "print(bow_keys)\n",
        "print(corpus_texts)"
      ],
      "metadata": {
        "colab": {
          "base_uri": "https://localhost:8080/"
        },
        "id": "BJqPFLV93OSq",
        "outputId": "49898c7e-9723-4799-8000-6c9c77076f1e"
      },
      "execution_count": null,
      "outputs": [
        {
          "output_type": "stream",
          "name": "stdout",
          "text": [
            "{'Three', 'previous', 'match', 'provide', 'clock', 'victory', 'Friday', 'individual', 'midday', 'approximately', 'annually', 'foster', 'yellow', 'three', 'team', 'practice', 'looked', 'card', 'Engaging', 'monetary', 'cancer', 'make', 'Asian', '12', 'stress', 'napping', 'used', 'U-23', 'people', 'management', 'twice', 'able', 'researcher', 'mood', 'prevention', 'cycling', 'adequately', 'personal', 'five-year', 'offering', 'fouled', 'treble', '11-10', 'It', 'debt', 'period', 'allocating', 'left', 'likelihood', 'cardiovascular', 'diabetes', 'midlife', 'first-half', 'without', 'one', 'Warriors', 'disease', 'four', 'notched', 'essential', 'freedom', 'value', 'boost', 'Struick', 'circulation', 'statistical', 'Incorporating', 'scoring', 'morning', 'mean', 'acknowledged', 'Arhan', 'play', 'year', ')', 'included', 'walking', 'The', 'healthy', 'rule', 'drew', 'cause', '(', 'duration', 'cash', 'stroke', 'weight', 'natural', 'determined', 'lowering', 'quarter-finals', 'scale', 'around', 'decision-making', 'endorphin', 'definition', 'role', 'reduces', 'fund', 'might', '2013', 'beautiful', 'every', 'Arabian', 'regular', 'Simple', 'side', 'follow-up', 'Tuesday', 'contest', \"n't\", 'early', 'significant', 'well', 'various', 'strategy', 'using', 'improved', 'Taegeuk', 'disease.Physical', 'goal', 'prioritizing', 'maintain', 'WIB', 'nine-time', 'single', 'fought', '“', 'league', 'later', '.', 'modifiable', 'Korean', 'reflects', 'optimizing', 'ward', 'worldwide', 'involves', 'cornerstone', 'bin', '20th', 'took', 'came', 'polygenic', 'On', 'daunting', 'countless', 'including', 'November', 'said', '2-year', 'assessed', 'long', 'financial', 'shootout', '2024', 'Cup', 'opened', \"D'Or\", 'prudent', '11', 'enhanced', 'flow', 'still', 'Whether', ',', 'often', 'typically', '$', 'multitude', 'risk', 'Garuda', 'developing', 'Furthermore', 'recognize', 'due', 'obesity', 'Saturday', 'lower', 'exercise', 'For', 'prospectively', 'Khalifa', 'chronic', 'outside', 'living', 'Moreover', 'condition', 'well-being', 'entail', 'income', 'right', 'Pratama', '10', 'fitness', '2023', '2019', 'baseline', 'build', 'morbidity', 'routed', 'nearly', 'business', 'ran', 'aligned', 'break', 'triggering', 'transparency', 'Jeong', 'overall', 'enhances', 'hat', 'Al-Nassr', 'resource', 'season', '120', 'Financial', 'Komang', 'resilience', 'Sang-bin', 'shown', 'curled', '2008', 'lead', 'slip', 'China', 'metabolism', 'involve', 'making', 'health', 'mortality', 'aimed', 'body', 'wealth', 'Teguh', 'Effective', 'lean', 'encompasses', 'analyzing', 'time', 'blood', 'passive', 'example', 'death', 'Europe', 'growth', 'star', 'retirement', 'noted', 'Al-Tai', 'choice', 'round', 'Korea', 'secure', 'passion', 'survey', 'However', 'stability', 'regulate', 'close', 'identifying', 'South', 'one-third', 'ability', 'optimal', 'support', 'investment', 'accounted', 'Trisnanda', 'last', 'second', 'concern', 'globally', 'history', 'major', '26/4/2024', 'central', 'ball', '29', 'person', 'sleep', 'part', 'withdrawal', 'mass', 'Source', 'conclusion', 'kicker', 'Scientists', 'heart', \"'s\", 'standard', 'mental', 'calorie', 'key', 'creating', 'Ronaldo', 'goalkeeper', 'study', 'yield', '72', 'level', 'future', 'routine', 'term', 'k', 'country', 'participant', 'work', 'Stadium', 'Portugal', 'Abdulmajeed', 'preventing', 'hour', 'factor', 'deciding', '5-year', 'help', 'Ari', '72,000', 'engage', 'feel-good', 'corporate', 'Abha', 'received', 'studyTrusted', 'research', 'Indonesia', 'suicide', 'aspiration', 'coronary', 'quality', 'author', 'associated', 'asset', 'million', 'low', 'free', 'He', 'keep', 'penalty', 'champion', 'crucial', 'Subjects', 'facilitates', 'rising', 'encompassing', '1.8', 'association', 'also', 'change', '40', 'analysis', 'like', 'success', 'two', 'Eom', 'obesity-related', 'enjoyable', 'Ballon', 'win', 'economic', 'There', 'plan', 'muscle', '2', 'Researchers', 'consistency', 'third', 'scored', 'In', 'measurement', 'open', 'budgeting', 'sugar', 'priority', 'daily', 'compliance', 'brace', 'League', 'position', 'better', 'cost', 'performed', 'Additionally', 'schedule', 'Cristiano', '9,309', 'burn', 'kick', '401', 'completed', 'complete', '8-0', 'project', 'accountability', 'pursue', 'finding', 'held', '5-1', 'chip', 'range', 'pressure', 'saving', '2-2', 'building', 'Al-Sulayhim', 'improving', 'type', 'ensure', '2018', 'Saudi', 'wall', 'toward', 'space', 'following', 'Individuals', 'planning', 'activity', 'trick', 'reducing', 'Muda', 'myriad', 'reporting', 'life', 'first', 'realm', 'By', 'stream', 'gardening', 'reflect', 'chemical', 'constrained', '4', 'allowing', 'promotes', 'five-time', 'pattern', 'may', 'sustainable', 'Achieving', 'minimizing', 'Regular', 'habit', 'assist', 'enough', 'pointed', 'reap', 'indicated', 'important', 'improves', 'release', 'place', 'score', 'With', 'area', 'benefit', 'contributing', 'serious', 'Ji-sung', 'strengthens', 'varies', 'offer', 'thanks', 'winner', 'paying', 'dream', 'bedtime', 'Pro', 'desired', 'substantial', 'metabolic', 'burden', 'cited', 'half', 'minute', 'maximizing', '2010', 'sound', 'influenced', 'recorded', 'shot', '%', 'information', 'Ernando', 'Abdullah', 'pivotal', 'maintaining', 'urgent', 'physical', 'essence', 'adjusted', 'lifestyle', 'regulatory'}\n",
            "[\"Indonesia victory South Korea quarter-finals 2024 U-23 Asian Cup . In match Abdullah bin Khalifa Stadium , Friday ( 26/4/2024 ) early morning WIB , Indonesia fought penalty shootout round win place last four . For 120 minute , Indonesia drew 2-2 South Korea . Garuda Muda took lead twice thanks brace Struick . Taegeuk Warriors scored goal due Komang Teguh Trisnanda 's suicide Jeong Sang-bin 's goal . In penalty shootout round , Ernando Ari able ward two South Korean penalty kick . Pratama Arhan deciding factor Indonesia 's victory score 11-10 goalkeeper contest held 12 kicker . In match , Struick received yellow card . He fouled Eom Ji-sung 20th minute .\", \"Cristiano Ronaldo notched second hat trick space 72 hour Al-Nassr routed Abha 8-0 Saudi Pro League Tuesday . The five-time Ballon D'Or winner scored three goal recorded two assist first half nine-time Saudi Arabian champion . The hat trick third league season following treble Saturday 's 5-1 win Al-Tai . The Portugal star lead league 29 goal . Ronaldo 's first two goal Tuesday came free kick . With 11 minute clock , opened scoring low shot central position outside area . The second came 10 minute later curled ball around wall left side . Three minute break , Ronaldo completed hat trick beautiful chip outside area ran toward goal . There still enough time first-half Ronaldo slip ball right Abdulmajeed Al-Sulayhim score open goal close range .\", 'The five-year pattern study determined bedtime , sleep duration , sleep quality , midday napping well polygenic risk score coronary heart disease stroke . The participant included people complete sleep information baseline survey 2008 2010 first follow-up survey 2013 . Subjects history cardiovascular disease cancer prospectively assessed 2013 2018 . Scientists performed statistical analysis November 2023 . The author pointed cardiovascular disease “ major cause morbidity mortality worldwide . In 2019 , cardiovascular death accounted approximately one-third death globally , including 40 % death China . The researcher also said cardiovascular disease burden keep rising nearly every country , research identifying modifiable risk factor prevention serious heart disease urgent . The team acknowledged previous study shown association sleep cardiovascular health . However , researcher said study used single measurement , might adequately reflect association overall sleep cardiovascular disease sleep habit may change time . Researchers cited one studyTrusted Source 9,309 participant living Europe indicated maintaining healthy sleep pattern 2-year 5-year period associated lower risk cardiovascular disease coronary heart disease stroke . However , noted research looked people midlife typically adjusted sleep pattern around work schedule .', \"Regular physical activity cornerstone healthy lifestyle , offering multitude benefit physical mental well-being . Engaging regular exercise strengthens muscle improves cardiovascular health also play crucial role preventing chronic disease obesity , diabetes , heart disease.Physical activity essential maintaining healthy weight reducing risk obesity-related condition . It help burn calorie , build lean muscle mass , boost metabolism , contributing weight management overall metabolic health . Additionally , exercise promotes better sleep quality , reduces stress level , enhances mood triggering release endorphin , body 's natural feel-good chemical . Furthermore , regular physical activity support optimal cardiovascular health improving circulation , lowering blood pressure , reducing risk heart disease stroke . It also help regulate blood sugar level , reducing likelihood developing type 2 diabetes . Incorporating exercise daily routine n't daunting . Simple activity walking , cycling , gardening provide significant health benefit . The key consistency finding activity enjoyable sustainable long term . In conclusion , prioritizing regular physical activity essential maintaining overall health well-being . By making exercise regular part life , reap countless benefit offer , improved physical fitness enhanced mental health quality life .\", 'Financial management play pivotal role personal business realm , encompassing myriad practice aimed optimizing monetary resource . Effective financial strategy involve budgeting , investment , risk management ensure sustainable growth stability . Individuals often engage financial planning secure future saving , retirement plan , investment various asset . On corporate scale , financial management entail analyzing cash flow , allocating fund project , minimizing financial risk . Moreover , encompasses financial reporting compliance regulatory standard maintain transparency accountability . In essence , sound financial management foster economic resilience facilitates prudent decision-making .', \"Financial freedom ability pursue passion goal without constrained financial concern . It mean enough cash investment support desired lifestyle , allowing make choice aligned value aspiration . For example , dream lifestyle cost $ 72,000 year , $ 1.8 million investment retirement saving , maintain lifestyle using 4 % withdrawal rule , yield $ 72,000 annually . Achieving financial freedom involves prudent saving investment , also maximizing income stream like 401 ( k ) match passive income . It 's important recognize financial freedom varies person , influenced factor like income level , living cost , personal priority . Whether 's paying debt building substantial wealth , financial freedom creating life reflects individual definition success .\"]\n"
          ]
        }
      ]
    },
    {
      "cell_type": "markdown",
      "source": [
        "*   Tokenisasi dilakukan untuk memecah teks menjadi token-token yang lebih kecil. Tujuannya untuk pemrosesan yang lebih efisien dan dapat meningkatkan akurasi dalam analisis atau pemrosesan teks.\n",
        "*   Lematisasi dilakukan untuk mengonversi kata-kata ke bentuk dasar, memudahkan proses analisis dan memperbaiki kinerja model.\n",
        "*   Stopwords digunakan untuk mengurangi jumlah kata dalam sebuah dokumen yang nantinya akan berpengaruh dalam kecepatan dan performa model NLP.\n",
        "*   Digunakan representasi teks dalam bentuk bag-of-words (BoW) untuk memungkinkan pengelompokan kata-kata unik yang digunakan dalam seluruh korpus teks, sehingga memperoleh pemahaman yang lebih baik tentang distribusi kata-kata dalam berbagai dokumen.\n",
        "\n",
        "\n",
        "\n"
      ],
      "metadata": {
        "id": "cpDojYIxEFZQ"
      }
    },
    {
      "cell_type": "code",
      "source": [
        "#@title Text Testing\n",
        "# Input teks baru untuk diklasifikasikan berdasarkan topik\n",
        "query_words = word_tokenize (\"Cristiano Ronaldo came off the bench to earn Manchester United a hard-fought 2-1 victory at Everton in the Premier League on Sunday, taking his career goal tally to 700 in the process. Just as United did last weekend in their derby mauling at the hands of local rivals Manchester City, they again found themselves behind early on at Goodison Park after Alex Iwobi curled a sublime strike into the net from 20 metres.\")\n",
        "query_words_clean = [lemmatizer.lemmatize(word) for word in query_words if word not in set(stopwords.words('english'))]\n",
        "query_words_corpus = [word for word in query_words_clean if word in set(bow_keys)]\n",
        "query_text_corpus = ' '.join(query_words_corpus)\n",
        "corpus_texts.append(query_text_corpus)"
      ],
      "metadata": {
        "id": "X1As_Mp0fxiQ"
      },
      "execution_count": null,
      "outputs": []
    },
    {
      "cell_type": "code",
      "source": [
        "#@title Menghitung Vektor Bag Of Words\n",
        "from sklearn.feature_extraction.text import CountVectorizer\n",
        "cv = CountVectorizer()\n",
        "bow_vectors = cv.fit_transform(corpus_texts).toarray()\n",
        "print(bow_vectors)\n",
        "print(len(bow_vectors[0]))"
      ],
      "metadata": {
        "colab": {
          "base_uri": "https://localhost:8080/"
        },
        "id": "UCT5KHRo41Ei",
        "outputId": "be896852-2e9c-47b2-c295-151783584f8a"
      },
      "execution_count": null,
      "outputs": [
        {
          "output_type": "stream",
          "name": "stdout",
          "text": [
            "[[0 1 1 ... 0 1 0]\n",
            " [0 1 1 ... 0 0 0]\n",
            " [0 0 0 ... 3 0 0]\n",
            " ...\n",
            " [0 0 0 ... 0 0 0]\n",
            " [2 0 0 ... 1 0 1]\n",
            " [0 0 0 ... 0 0 0]]\n",
            "471\n"
          ]
        }
      ]
    },
    {
      "cell_type": "code",
      "source": [
        "#@title Normalisasi Vektor Bag Of Words\n",
        "#Normalisasi vektor BoW\n",
        "bow_texts_norm = []\n",
        "for bow in bow_vectors:\n",
        "  length = (sum(i*i for i in bow)) ** 0.5\n",
        "  bow_norm = bow / length\n",
        "  bow_texts_norm.append(bow_norm)"
      ],
      "metadata": {
        "id": "BaJO5wHqf1OA"
      },
      "execution_count": null,
      "outputs": []
    },
    {
      "cell_type": "code",
      "source": [
        "#@title Hitung Similarity Menggunakan Dot Product\n",
        "similarity_vector = []\n",
        "bow_norm_query = bow_texts_norm[6]\n",
        "for bow in bow_texts_norm[:6]:\n",
        "  similarity_vector.append(sum(i*j for i,j in zip(bow,bow_norm_query)))\n",
        "print(similarity_vector)"
      ],
      "metadata": {
        "colab": {
          "base_uri": "https://localhost:8080/"
        },
        "id": "RmAnpMnx6DHd",
        "outputId": "3d4feb6c-a72a-465a-e587-df02e3c060f3"
      },
      "execution_count": null,
      "outputs": [
        {
          "output_type": "stream",
          "name": "stdout",
          "text": [
            "[0.16384638410380808, 0.3555555555555555, 0.0, 0.0, 0.0, 0.026948402781814776]\n"
          ]
        }
      ]
    },
    {
      "cell_type": "code",
      "source": [
        "#@title Menentukan Topik Berdasarkan Similarity Tertinggi\n",
        "id_max_sim = similarity_vector.index(max(similarity_vector))\n",
        "if (id_max_sim == 0 or id_max_sim == 1):\n",
        "  print (\"The query text is classified as: Sport\")\n",
        "elif (id_max_sim == 2 or id_max_sim == 3 ):\n",
        "  print (\"The query text is classified as: Medical\")\n",
        "elif (id_max_sim == 4 or id_max_sim == 5 ):\n",
        "  print (\"The query text is classified as: Finance\")"
      ],
      "metadata": {
        "colab": {
          "base_uri": "https://localhost:8080/"
        },
        "id": "q0B23lC36E0h",
        "outputId": "ac406000-4704-4978-f75f-667c1945f90d"
      },
      "execution_count": null,
      "outputs": [
        {
          "output_type": "stream",
          "name": "stdout",
          "text": [
            "The query text is classified as: Sport\n"
          ]
        }
      ]
    },
    {
      "cell_type": "markdown",
      "source": [
        "Penggunaan kode tersebut bertujuan untuk mengklasifikasikan teks query ke dalam kategori yang paling sesuai berdasarkan tingkat kemiripannya dengan kategori yang telah ditentukan sebelumnya. Dengan menggunakan metode pencarian nilai tertinggi dalam vektor kemiripan, kode tersebut dapat menentukan indeks dari kategori dengan kemiripan tertinggi.\n",
        "\n",
        "Dalam kasus ini, teks query berhasil diklasifikasikan sebagai **Sport** karena memiliki kemiripan tertinggi dengan kategori olahraga."
      ],
      "metadata": {
        "id": "82ztJzPuBmW3"
      }
    }
  ]
}